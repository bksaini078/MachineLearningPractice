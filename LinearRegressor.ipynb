{
 "cells": [
  {
   "cell_type": "markdown",
   "metadata": {},
   "source": [
    "# Deep learning from Scratch in python\n",
    "\n",
    "“What is a neural network?”: <br>\n",
    "- A neural network is a mathematical function that takes in inputs and produces outputs.\n",
    "- A neural network is a computational graph through which multidimensional arrays flow.\n",
    "- A neural network is made up of layers, each of which can be thought of as having a number of “neurons.”\n",
    "- A neural network is a universal function approximator that can in theory represent the solution to any supervised learning problem.\n",
    "\n",
    "__There are four assumptions associated with a linear regression model:__\n",
    "\n",
    "- __Linearity:__ The relationship between X and the mean of Y is linear.\n",
    "- __Homoscedasticity:__ The variance of residual is the same for any value of X.\n",
    "- __Independence:__ Observations are independent of each other.\n",
    "- __Normality:__ For any fixed value of X, Y is normally distributed.\n",
    "\n",
    "The assumption of homoscedasticity (meaning “same variance”) is central to linear regression models.  Homoscedasticity describes a situation in which the error term (that is, the “noise” or random disturbance in the relationship between the independent variables and the dependent variable) is the same across all values of the independent variables.  Heteroscedasticity (the violation of homoscedasticity) is present when the size of the error term differs across values of an independent variable.  The impact of violating the assumption of homoscedasticity is a matter of degree, increasing as heteroscedasticity increases.\n",
    "\n",
    "A simple bivariate example can help to illustrate heteroscedasticity: Imagine we have data on family income and spending on luxury items.  Using bivariate regression, we use family income to predict luxury spending.  As expected, there is a strong, positive association between income and spending.  Upon examining the residuals we detect a problem – the residuals are very small for low values of family income (almost all families with low incomes don’t spend much on luxury items) while there is great variation in the size of the residuals for wealthier families (some families spend a great deal on luxury items while some are more moderate in their luxury spending).  This situation represents heteroscedasticity because the size of the error varies across values of the independent variable.  Examining a scatterplot of the residuals against the predicted values of the dependent variable would show a classic cone-shaped pattern of heteroscedasticity.\n",
    "\n",
    "The problem that heteroscedasticity presents for regression models is simple.  Recall that ordinary least-squares (OLS) regression seeks to minimize residuals and in turn produce the smallest possible standard errors.  By definition, OLS regression gives equal weight to all observations, but when heteroscedasticity is present, the cases with larger disturbances have more “pull” than other observations.  In this case, weighted least squares regression would be more appropriate, as it down-weights those observations with larger disturbances."
   ]
  },
  {
   "cell_type": "markdown",
   "metadata": {},
   "source": [
    "# Fundamentals"
   ]
  },
  {
   "cell_type": "code",
   "execution_count": 17,
   "metadata": {},
   "outputs": [],
   "source": [
    "%config IPCompleter.greedy=True"
   ]
  },
  {
   "cell_type": "code",
   "execution_count": 110,
   "metadata": {},
   "outputs": [],
   "source": [
    "# importing libraries \n",
    "import numpy as np \n",
    "import matplotlib.pyplot as plt \n",
    "import pandas as pd \n",
    "\n",
    "from sklearn.datasets import load_boston\n",
    "from sklearn.linear_model import LinearRegression\n"
   ]
  },
  {
   "cell_type": "code",
   "execution_count": 111,
   "metadata": {},
   "outputs": [
    {
     "data": {
      "text/plain": [
       "array(['CRIM', 'ZN', 'INDUS', 'CHAS', 'NOX', 'RM', 'AGE', 'DIS', 'RAD',\n",
       "       'TAX', 'PTRATIO', 'B', 'LSTAT'], dtype='<U7')"
      ]
     },
     "execution_count": 111,
     "metadata": {},
     "output_type": "execute_result"
    }
   ],
   "source": [
    "# loading data \n",
    "boston= load_boston()\n",
    "data= boston.data\n",
    "targets= boston.target\n",
    "features= boston.feature_names\n",
    "features"
   ]
  },
  {
   "cell_type": "code",
   "execution_count": 112,
   "metadata": {},
   "outputs": [
    {
     "data": {
      "text/plain": [
       "array([[-0.41978194,  0.28482986, -1.2879095 , ..., -1.45900038,\n",
       "         0.44105193, -1.0755623 ],\n",
       "       [-0.41733926, -0.48772236, -0.59338101, ..., -0.30309415,\n",
       "         0.44105193, -0.49243937],\n",
       "       [-0.41734159, -0.48772236, -0.59338101, ..., -0.30309415,\n",
       "         0.39642699, -1.2087274 ],\n",
       "       ...,\n",
       "       [-0.41344658, -0.48772236,  0.11573841, ...,  1.17646583,\n",
       "         0.44105193, -0.98304761],\n",
       "       [-0.40776407, -0.48772236,  0.11573841, ...,  1.17646583,\n",
       "         0.4032249 , -0.86530163],\n",
       "       [-0.41500016, -0.48772236,  0.11573841, ...,  1.17646583,\n",
       "         0.44105193, -0.66905833]])"
      ]
     },
     "execution_count": 112,
     "metadata": {},
     "output_type": "execute_result"
    }
   ],
   "source": [
    "# scaling of the data \n",
    "from sklearn.preprocessing import StandardScaler\n",
    "std_scaler= StandardScaler()\n",
    "std_data= std_scaler.fit_transform(data)\n",
    "std_data\n"
   ]
  },
  {
   "cell_type": "code",
   "execution_count": 113,
   "metadata": {},
   "outputs": [
    {
     "name": "stdout",
     "output_type": "stream",
     "text": [
      "(354, 13) (152, 13) (354,) (152,)\n",
      "(354, 13) (152, 13) (354, 1) (152, 1)\n"
     ]
    }
   ],
   "source": [
    "# spliting the dataset\n",
    "from sklearn.model_selection import train_test_split\n",
    "\n",
    "x_train,x_test,y_train,y_test= train_test_split(std_data,targets,test_size=0.3)\n",
    "print(x_train.shape,x_test.shape,y_train.shape,y_test.shape)\n",
    "# need to reshape the targets \n",
    "y_train,y_test= y_train.reshape((-1,1)),y_test.reshape((-1,1))\n",
    "print(x_train.shape,x_test.shape,y_train.shape,y_test.shape)\n"
   ]
  },
  {
   "cell_type": "markdown",
   "metadata": {},
   "source": [
    "## Regression"
   ]
  },
  {
   "cell_type": "code",
   "execution_count": 114,
   "metadata": {},
   "outputs": [],
   "source": [
    "from sklearn.linear_model import LinearRegression\n",
    "lr= LinearRegression(fit_intercept=True)\n",
    "lr.fit(x_train,y_train)\n",
    "preds= lr.predict(x_test)"
   ]
  },
  {
   "cell_type": "code",
   "execution_count": 115,
   "metadata": {},
   "outputs": [
    {
     "data": {
      "image/png": "[encoded data removed]",
      "text/plain": [
       "<Figure size 432x288 with 1 Axes>"
      ]
     },
     "metadata": {
      "needs_background": "light"
     },
     "output_type": "display_data"
    }
   ],
   "source": [
    "import matplotlib.pyplot as plt \n",
    "plt.title(\"Actual vs predicted charts\")\n",
    "plt.scatter(preds,y_test,color='blue')\n",
    "plt.plot([0,51],[0,51])\n",
    "plt.show()"
   ]
  },
  {
   "cell_type": "code",
   "execution_count": 116,
   "metadata": {},
   "outputs": [
    {
     "name": "stdout",
     "output_type": "stream",
     "text": [
      "Coefficients are: [[-1.07100664  1.13106641  0.4804223   0.39670048 -1.79120626  2.9406987\n",
      "  -0.49030232 -3.24878832  2.54776059 -2.57040945 -1.94879798  1.00921017\n",
      "  -3.09599624]]\n",
      "Most important coefficient index is : 7\n"
     ]
    }
   ],
   "source": [
    "# checking most important feature \n",
    "print('Coefficients are:',lr.coef_)\n",
    "print('Most important coefficient index is :',np.argmax(abs(lr.coef_) ))"
   ]
  },
  {
   "cell_type": "code",
   "execution_count": 117,
   "metadata": {},
   "outputs": [
    {
     "data": {
      "image/png": "[encoded data removed]",
      "text/plain": [
       "<Figure size 432x288 with 1 Axes>"
      ]
     },
     "metadata": {
      "needs_background": "light"
     },
     "output_type": "display_data"
    }
   ],
   "source": [
    "#plotting with the most important feature and target variable \n",
    "plt.scatter(x_test[:,12],y_test)\n",
    "plt.show()"
   ]
  },
  {
   "cell_type": "code",
   "execution_count": null,
   "metadata": {},
   "outputs": [],
   "source": []
  },
  {
   "cell_type": "code",
   "execution_count": 118,
   "metadata": {},
   "outputs": [
    {
     "data": {
      "image/png": "[encoded data removed]",
      "text/plain": [
       "<Figure size 432x288 with 1 Axes>"
      ]
     },
     "metadata": {
      "needs_background": "light"
     },
     "output_type": "display_data"
    }
   ],
   "source": [
    "#now the predicted output and the most important feature \n",
    "plt.scatter(x_test[:,12],preds)\n",
    "plt.show()"
   ]
  },
  {
   "cell_type": "code",
   "execution_count": 119,
   "metadata": {},
   "outputs": [
    {
     "name": "stdout",
     "output_type": "stream",
     "text": [
      "Mean absolute error: 3.4889 \n",
      "Root mean squared error: 5.1447\n"
     ]
    }
   ],
   "source": [
    "def mae(preds, actuals):\n",
    "    '''\n",
    "    Compute mean absolute error.\n",
    "    '''\n",
    "    return np.mean(np.abs(preds - actuals))\n",
    "\n",
    "def rmse(preds, actuals):\n",
    "    '''\n",
    "    Compute root mean squared error.\n",
    "    '''\n",
    "    return np.sqrt(np.mean(np.power(preds - actuals, 2)))\n",
    "\n",
    "print(\"Mean absolute error:\", round(mae(preds, y_test), 4), \"\\n\"\n",
    "      \"Root mean squared error:\", round(rmse(preds, y_test), 4))"
   ]
  },
  {
   "cell_type": "markdown",
   "metadata": {},
   "source": [
    "## Manual Regression \n"
   ]
  },
  {
   "cell_type": "code",
   "execution_count": 121,
   "metadata": {},
   "outputs": [],
   "source": [
    "from tqdm import tqdm\n",
    "class LinearRegressionCode:\n",
    "    def __init__(self):\n",
    "        self.weights={}\n",
    "        self.loss=0\n",
    "        self.learning_rate=0\n",
    "        self.feature=0\n",
    "        self.loss_arr=[]\n",
    "        self.x=[]\n",
    "        self.y=[]\n",
    "        self.start=0\n",
    "        self.batch_size=0\n",
    "        self.batch=0\n",
    "        \n",
    "    def init_weights(self):\n",
    "        '''\n",
    "        Initializing weights\n",
    "        '''\n",
    "#         print('Initializing weights')\n",
    "        self.weights['W']= np.random.randn(self.feature,1)\n",
    "        self.weights['B']=np.random.randn(1,1)\n",
    "#         print('Weights Dimension:', self.weights['W'].shape,self.weights['B'].shape)\n",
    "    \n",
    "    def forward_pass(self):\n",
    "        '''\n",
    "        Forward pass \n",
    "        '''\n",
    "        N=np.dot(self.x, self.weights['W'])\n",
    "        P= N+self.weights['B']\n",
    "        self.loss= np.mean(np.power(self.y-P,2))\n",
    "        self.weights['N']=N\n",
    "        self.weights[\"P\"]=P\n",
    "        self.loss_arr.append(self.loss)\n",
    "\n",
    "    def backward_pass(self):\n",
    "        '''\n",
    "        Backward Pass\n",
    "        '''\n",
    "        dl_dp= -2*(self.y - self.weights['P'])\n",
    "        dp_dn= np.ones_like(self.weights['N'])\n",
    "        dp_db= np.ones_like(self.weights['B'])\n",
    "        dl_dn= dl_dp*dp_dn\n",
    "        dn_dw= np.transpose(self.x,(1,0))\n",
    "        dl_dw= np.dot(dn_dw,dl_dn)\n",
    "        dl_db= (dl_dp*dp_db).sum(axis=0)\n",
    "        self.weights['dldw']=dl_dw\n",
    "        self.weights['dldb']=dl_db\n",
    "\n",
    "    def permute_data(self,X,Y):\n",
    "        '''\n",
    "        permutating the dataset\n",
    "        '''\n",
    "        perm= np.random.permutation(X.shape[0])\n",
    "        return X[perm],Y[perm]\n",
    "\n",
    "    def generate_batch(self,X, Y):\n",
    "        '''\n",
    "        Generating batch\n",
    "        '''\n",
    "        assert X.ndim==Y.ndim==2, 'X and Y dimension must be same'\n",
    "        if self.start+self.batch_size>=X.shape[0]:\n",
    "            self.batch= X.shape[0]-self.start\n",
    "        \n",
    "        self.x,self.y = X[self.start:self.start+self.batch],Y[self.start:self.start+self.batch]\n",
    "#         print('x shape, y_shape',self.x.shape,self.y.shape)\n",
    "\n",
    "    def train(self,X,Y,learning_rate=0.01,n_iter=10,batch_size=100, seed=1):\n",
    "        '''\n",
    "        Training the data \n",
    "        '''\n",
    "\n",
    "        if seed:\n",
    "            np.random.seed(seed)\n",
    "\n",
    "        self.learning_rate=learning_rate\n",
    "        self.batch_size= batch_size\n",
    "        self.batch=batch_size\n",
    "        self.feature= X.shape[1]\n",
    "        print('Feature:', X.shape[1])\n",
    "\n",
    "        #initializing the weights\n",
    "        self.init_weights()\n",
    "\n",
    "        for i in tqdm(range(n_iter)):\n",
    "            if self.start >= X.shape[0]:\n",
    "                X,Y= self.permute_data(X,Y)\n",
    "                self.start=0\n",
    "                self.batch=batch_size\n",
    "                \n",
    "            self.generate_batch(X,Y)\n",
    "            self.start+=self.batch_size\n",
    "\n",
    "            self.forward_pass()\n",
    "            self.backward_pass()\n",
    "            \n",
    "            #updating the weights \n",
    "            self.weights[\"W\"]-= self.learning_rate*self.weights['dldw']\n",
    "            self.weights[\"B\"]-= self.learning_rate*self.weights['dldb']\n",
    "            \n",
    "        return self.weights,self.loss_arr\n",
    "\n",
    "    def predict(self,x_test):\n",
    "        '''\n",
    "        Predicting the test data \n",
    "        '''\n",
    "        return np.dot(x_test,self.weights['W'])+self.weights['B']\n",
    "\n"
   ]
  },
  {
   "cell_type": "code",
   "execution_count": 122,
   "metadata": {},
   "outputs": [
    {
     "name": "stderr",
     "output_type": "stream",
     "text": [
      "100%|██████████| 1000/1000 [00:00<00:00, 21912.55it/s]"
     ]
    },
    {
     "name": "stdout",
     "output_type": "stream",
     "text": [
      "Feature: 13\n"
     ]
    },
    {
     "name": "stderr",
     "output_type": "stream",
     "text": [
      "\n"
     ]
    }
   ],
   "source": [
    "lr_manual= LinearRegressionCode()\n",
    "weights,losses= lr_manual.train(x_train,y_train, learning_rate=0.001,n_iter=1000,batch_size=10)"
   ]
  },
  {
   "cell_type": "code",
   "execution_count": 127,
   "metadata": {},
   "outputs": [
    {
     "data": {
      "image/png": "[encoded data removed]",
      "text/plain": [
       "<Figure size 432x288 with 1 Axes>"
      ]
     },
     "metadata": {
      "needs_background": "light"
     },
     "output_type": "display_data"
    }
   ],
   "source": [
    "preds= lr_manual.predict(x_test)\n",
    "plt.title(\"Actual vs predicted charts\")\n",
    "plt.scatter(preds,y_test,color='blue')\n",
    "plt.plot([0,51],[0,51])\n",
    "plt.show()"
   ]
  },
  {
   "cell_type": "code",
   "execution_count": 128,
   "metadata": {},
   "outputs": [
    {
     "name": "stdout",
     "output_type": "stream",
     "text": [
      "Coefficients are : [-1.03990503  1.05285224  0.05976879  0.41543916 -1.70834436  3.06746691\n",
      " -0.58729621 -3.11003948  1.78268362 -1.79540594 -1.95371241  1.12052061\n",
      " -3.32093939]\n",
      "Maximum value of the coeffcient is: 5\n"
     ]
    }
   ],
   "source": [
    "# Printing the coeffecient and maximum coefficient \n",
    "print('Coefficients are :', weights[\"W\"].flatten())\n",
    "print('Maximum value of the coeffcient is:', np.argmax(weights['W'].flatten()))"
   ]
  },
  {
   "cell_type": "code",
   "execution_count": 129,
   "metadata": {},
   "outputs": [
    {
     "name": "stdout",
     "output_type": "stream",
     "text": [
      "Mean absolute error: 3.4671 \n",
      "Root mean squared error: 5.1766\n"
     ]
    }
   ],
   "source": [
    "print(\"Mean absolute error:\", round(mae(preds, y_test), 4), \"\\n\"\n",
    "      \"Root mean squared error:\", round(rmse(preds, y_test), 4))"
   ]
  },
  {
   "cell_type": "code",
   "execution_count": 130,
   "metadata": {},
   "outputs": [
    {
     "data": {
      "text/plain": [
       "[<matplotlib.lines.Line2D at 0x1647319d0>]"
      ]
     },
     "execution_count": 130,
     "metadata": {},
     "output_type": "execute_result"
    },
    {
     "data": {
      "image/png": "[encoded data removed]",
      "text/plain": [
       "<Figure size 432x288 with 1 Axes>"
      ]
     },
     "metadata": {
      "needs_background": "light"
     },
     "output_type": "display_data"
    }
   ],
   "source": [
    "#plotting the loss \n",
    "plt.plot(losses)"
   ]
  },
  {
   "cell_type": "code",
   "execution_count": 133,
   "metadata": {},
   "outputs": [
    {
     "data": {
      "image/png": "[encoded data removed]",
      "text/plain": [
       "<Figure size 432x288 with 1 Axes>"
      ]
     },
     "metadata": {
      "needs_background": "light"
     },
     "output_type": "display_data"
    }
   ],
   "source": [
    "# here most important feature is 5 \n",
    "# lets plot it with x_test\n",
    "plt.scatter(x_test[:,5],preds)\n",
    "plt.show()"
   ]
  },
  {
   "cell_type": "code",
   "execution_count": null,
   "metadata": {},
   "outputs": [],
   "source": []
  }
 ],
 "metadata": {
  "interpreter": {
   "hash": "23b1c9a614c87c59e2789aac7461974ea5732657b1ecaa64db7f65804c2bbadf"
  },
  "kernelspec": {
   "display_name": "Python 3",
   "language": "python",
   "name": "python3"
  },
  "language_info": {
   "codemirror_mode": {
    "name": "ipython",
    "version": 3
   },
   "file_extension": ".py",
   "mimetype": "text/x-python",
   "name": "python",
   "nbconvert_exporter": "python",
   "pygments_lexer": "ipython3",
   "version": "3.9.5"
  },
  "metadata": {
   "interpreter": {
    "hash": "a9affad23b2c2f5ca22b408b9db540ff1d82bc974be15e3b8e8e97345f68c1e0"
   }
  }
 },
 "nbformat": 4,
 "nbformat_minor": 4
}

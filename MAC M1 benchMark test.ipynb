{
 "cells": [
  {
   "cell_type": "code",
   "execution_count": 5,
   "id": "ce8094e8-38b8-4de3-ba82-607f6221eb2c",
   "metadata": {},
   "outputs": [
    {
     "name": "stdout",
     "output_type": "stream",
     "text": [
      "Epoch 1/10\n",
      "  39/1875 [..............................] - ETA: 7s - loss: 1.2681 - accuracy: 0.5721"
     ]
    },
    {
     "name": "stderr",
     "output_type": "stream",
     "text": [
      "2021-07-23 13:22:58.447325: I tensorflow/core/grappler/optimizers/custom_graph_optimizer_registry.cc:112] Plugin optimizer for device_type GPU is enabled.\n"
     ]
    },
    {
     "name": "stdout",
     "output_type": "stream",
     "text": [
      "1875/1875 [==============================] - 8s 4ms/step - loss: 0.4987 - accuracy: 0.8245\n",
      "Epoch 2/10\n",
      "1875/1875 [==============================] - 8s 4ms/step - loss: 0.3724 - accuracy: 0.8644\n",
      "Epoch 3/10\n",
      "1875/1875 [==============================] - 8s 4ms/step - loss: 0.3349 - accuracy: 0.8765\n",
      "Epoch 4/10\n",
      "1875/1875 [==============================] - 8s 4ms/step - loss: 0.3111 - accuracy: 0.8850\n",
      "Epoch 5/10\n",
      "1875/1875 [==============================] - 8s 4ms/step - loss: 0.2925 - accuracy: 0.8918\n",
      "Epoch 6/10\n",
      "1875/1875 [==============================] - 8s 4ms/step - loss: 0.2789 - accuracy: 0.8965\n",
      "Epoch 7/10\n",
      "1875/1875 [==============================] - 8s 4ms/step - loss: 0.2676 - accuracy: 0.9011\n",
      "Epoch 8/10\n",
      "1875/1875 [==============================] - 8s 4ms/step - loss: 0.2572 - accuracy: 0.9038\n",
      "Epoch 9/10\n",
      "1875/1875 [==============================] - 8s 4ms/step - loss: 0.2454 - accuracy: 0.9075\n",
      "Epoch 10/10\n",
      "1875/1875 [==============================] - 8s 4ms/step - loss: 0.2385 - accuracy: 0.9109\n"
     ]
    },
    {
     "name": "stderr",
     "output_type": "stream",
     "text": [
      "2021-07-23 13:24:14.575191: I tensorflow/core/grappler/optimizers/custom_graph_optimizer_registry.cc:112] Plugin optimizer for device_type GPU is enabled.\n"
     ]
    },
    {
     "name": "stdout",
     "output_type": "stream",
     "text": [
      "313/313 - 1s - loss: 0.3432 - accuracy: 0.8805\n",
      "\n",
      "\n",
      "Training set contained 60000 images\n",
      "Testing set contained 10000 images\n",
      "Model achieved 0.88 testing accuracy\n",
      "Training and testing took 77.54 seconds\n"
     ]
    }
   ],
   "source": [
    "#import libraries\n",
    "import tensorflow as tf\n",
    "import time\n",
    "\n",
    "\n",
    "#download fashion mnist dataset\n",
    "fashion_mnist = tf.keras.datasets.fashion_mnist\n",
    "(train_images, train_labels), (test_images, test_labels) = fashion_mnist.load_data()\n",
    "\n",
    "train_set_count = len(train_labels)\n",
    "test_set_count = len(test_labels)\n",
    "\n",
    "#setup start time\n",
    "t0 = time.time()\n",
    "\n",
    "#normalize images\n",
    "train_images = train_images / 255.0\n",
    "test_images = test_images / 255.0\n",
    "\n",
    "#create ML model\n",
    "model = tf.keras.Sequential([\n",
    "    tf.keras.layers.Flatten(input_shape=(28, 28)),\n",
    "    tf.keras.layers.Dense(128, activation='relu'),\n",
    "    tf.keras.layers.Dense(10)\n",
    "])\n",
    "\n",
    "#compile ML model\n",
    "model.compile(optimizer='adam',\n",
    "              loss=tf.keras.losses.SparseCategoricalCrossentropy(from_logits=True),\n",
    "              metrics=['accuracy'])\n",
    "\n",
    "#train ML model\n",
    "with tf.device('/gpu'):\n",
    "    model.fit(train_images, train_labels, epochs=10)\n",
    "\n",
    "#evaluate ML model on test set\n",
    "test_loss, test_acc = model.evaluate(test_images,  test_labels, verbose=2)\n",
    "\n",
    "#setup stop time\n",
    "t1 = time.time()\n",
    "total_time = t1-t0\n",
    "\n",
    "#print results\n",
    "print('\\n')\n",
    "print(f'Training set contained {train_set_count} images')\n",
    "print(f'Testing set contained {test_set_count} images')\n",
    "print(f'Model achieved {test_acc:.2f} testing accuracy')\n",
    "print(f'Training and testing took {total_time:.2f} seconds')"
   ]
  },
  {
   "cell_type": "code",
   "execution_count": 7,
   "id": "6e43f3b2-fa7f-48cc-9d56-150e28e438c1",
   "metadata": {},
   "outputs": [
    {
     "data": {
      "text/plain": [
       "[PhysicalDevice(name='/physical_device:GPU:0', device_type='GPU')]"
      ]
     },
     "execution_count": 7,
     "metadata": {},
     "output_type": "execute_result"
    }
   ],
   "source": [
    "gpus = tf.config.experimental.list_physical_devices('GPU')\n",
    "gpus"
   ]
  },
  {
   "cell_type": "code",
   "execution_count": null,
   "id": "f041a9b4-839a-441b-9e85-c86ee664e044",
   "metadata": {},
   "outputs": [
    {
     "name": "stdout",
     "output_type": "stream",
     "text": [
      "Downloading data from https://www.cs.toronto.edu/~kriz/cifar-10-python.tar.gz\n",
      "170500096/170498071 [==============================] - 311s 2us/step\n",
      "Epoch 1/10\n"
     ]
    },
    {
     "name": "stderr",
     "output_type": "stream",
     "text": [
      "2021-07-23 13:31:51.175183: I tensorflow/core/grappler/optimizers/custom_graph_optimizer_registry.cc:112] Plugin optimizer for device_type GPU is enabled.\n"
     ]
    },
    {
     "name": "stdout",
     "output_type": "stream",
     "text": [
      "1563/1563 [==============================] - 183s 114ms/step - loss: 2.2404 - accuracy: 0.3050\n",
      "Epoch 2/10\n",
      "1563/1563 [==============================] - 175s 112ms/step - loss: 2.1529 - accuracy: 0.3275\n",
      "Epoch 3/10\n",
      "1563/1563 [==============================] - 173s 111ms/step - loss: 2.1158 - accuracy: 0.3108\n",
      "Epoch 4/10\n",
      " 646/1563 [===========>..................] - ETA: 1:42 - loss: 1.9898 - accuracy: 0.3446"
     ]
    }
   ],
   "source": [
    "\n",
    "#import libraries\n",
    "import tensorflow as tf\n",
    "from time import perf_counter\n",
    "\n",
    "#download cifar10 dataset\n",
    "cifar10 = tf.keras.datasets.cifar10\n",
    "(train_images, train_labels), (test_images, test_labels) = cifar10.load_data()\n",
    "\n",
    "train_set_count = len(train_labels)\n",
    "test_set_count = len(test_labels)\n",
    "\n",
    "#setup start time\n",
    "t1_start = perf_counter()\n",
    "\n",
    "#normalize images\n",
    "train_images = train_images / 255.0\n",
    "test_images = test_images / 255.0\n",
    "\n",
    "#create ML model using tensorflow provided ResNet50 model, note the [32, 32, 3] shape because that's the shape of cifar\n",
    "model = tf.keras.applications.ResNet50(\n",
    "    include_top=True, weights=None, input_tensor=None,\n",
    "    input_shape=(32, 32, 3), pooling=None, classes=10\n",
    ")\n",
    "\n",
    "# CIFAR 10 labels have one integer for each image (between 0 and 10)\n",
    "# We want to perform a cross entropy which requires a one hot encoded version e.g: [0.0, 0.0, 1.0, 0.0, 0.0...]\n",
    "train_labels = tf.one_hot(train_labels.reshape(-1), depth=10, axis=-1)\n",
    "\n",
    "# Do the same thing for the test labels\n",
    "test_labels = tf.one_hot(test_labels.reshape(-1), depth=10, axis=-1)\n",
    "\n",
    "#compile ML model, use non sparse version here because there is no sparse data.\n",
    "model.compile(optimizer='adam',\n",
    "              loss=tf.keras.losses.CategoricalCrossentropy(),\n",
    "              metrics=['accuracy'])\n",
    "\n",
    "#train ML model\n",
    "model.fit(train_images,  train_labels, epochs=10)\n",
    "\n",
    "#evaluate ML model on test set\n",
    "test_loss, test_acc = model.evaluate(test_images,  test_labels, verbose=2)\n",
    "\n",
    "#setup stop time\n",
    "t1_stop = perf_counter()\n",
    "total_time = t1_stop-t1_start\n",
    "\n",
    "#print results\n",
    "print('\\n')\n",
    "print(f'Training set contained {train_set_count} images')\n",
    "print(f'Testing set contained {test_set_count} images')\n",
    "print(f'Model achieved {test_acc:.2f} testing accuracy')\n",
    "print(f'Training and testing took {total_time:.2f} seconds')\n",
    "\n",
    "{\"mode\":\"full\",\"isActive\":false}"
   ]
  },
  {
   "cell_type": "code",
   "execution_count": null,
   "id": "3258d6bd-11c5-48eb-85b6-c6353b6c6f59",
   "metadata": {},
   "outputs": [],
   "source": []
  }
 ],
 "metadata": {
  "kernelspec": {
   "display_name": "Python 3.9.5 64-bit ('miniforge3': virtualenv)",
   "language": "python",
   "name": "python395jvsc74a57bd023b1c9a614c87c59e2789aac7461974ea5732657b1ecaa64db7f65804c2bbadf"
  },
  "language_info": {
   "codemirror_mode": {
    "name": "ipython",
    "version": 3
   },
   "file_extension": ".py",
   "mimetype": "text/x-python",
   "name": "python",
   "nbconvert_exporter": "python",
   "pygments_lexer": "ipython3",
   "version": "3.9.5"
  }
 },
 "nbformat": 4,
 "nbformat_minor": 5
}

{
 "metadata": {
  "language_info": {
   "codemirror_mode": {
    "name": "ipython",
    "version": 3
   },
   "file_extension": ".py",
   "mimetype": "text/x-python",
   "name": "python",
   "nbconvert_exporter": "python",
   "pygments_lexer": "ipython3",
   "version": "3.8.10"
  },
  "orig_nbformat": 2,
  "kernelspec": {
   "name": "python3810jvsc74a57bd0a9affad23b2c2f5ca22b408b9db540ff1d82bc974be15e3b8e8e97345f68c1e0",
   "display_name": "Python 3.8.10 64-bit ('tf_venv': conda)"
  },
  "metadata": {
   "interpreter": {
    "hash": "a9affad23b2c2f5ca22b408b9db540ff1d82bc974be15e3b8e8e97345f68c1e0"
   }
  }
 },
 "nbformat": 4,
 "nbformat_minor": 2,
 "cells": [
  {
   "source": [
    "# Deep learning from Scratch in python\n"
   ],
   "cell_type": "markdown",
   "metadata": {}
  },
  {
   "source": [
    "# Fundamentals"
   ],
   "cell_type": "markdown",
   "metadata": {}
  },
  {
   "source": [
    "## A single neuron\n",
    "\n",
    "\n"
   ],
   "cell_type": "markdown",
   "metadata": {}
  },
  {
   "source": [
    "\n",
    "\n"
   ],
   "cell_type": "markdown",
   "metadata": {}
  },
  {
   "cell_type": "code",
   "execution_count": 1,
   "metadata": {},
   "outputs": [],
   "source": [
    "inputs= [1,2,3]\n",
    "weights=[0.2,0.8,-0.5]\n",
    "bias=2"
   ]
  },
  {
   "cell_type": "code",
   "execution_count": null,
   "metadata": {},
   "outputs": [],
   "source": []
  }
 ]
}
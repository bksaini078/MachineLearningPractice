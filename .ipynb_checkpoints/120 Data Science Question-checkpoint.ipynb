{
 "cells": [
  {
   "cell_type": "markdown",
   "id": "7c32c2fe-28dc-46ef-9af1-ab7e970f6fed",
   "metadata": {},
   "source": [
    "# 120 Data Science Interview Question"
   ]
  },
  {
   "cell_type": "markdown",
   "id": "9c8a94b4-d56e-4ddf-a5eb-132a8f0ba1b4",
   "metadata": {},
   "source": [
    "# Predictive Modelling "
   ]
  },
  {
   "cell_type": "markdown",
   "id": "3afe9403-b891-4492-9634-6642d53ac6e9",
   "metadata": {},
   "source": [
    "## What could be some issues if the distribution of the test data is significantly different than the distribution of the training data? \n",
    "- Prediction will go wrong. <br>\n",
    "Machine learning or statistical model tries to learn the hidden patterns and distribution of the training data, if test distribution is different then generalization error or prediction on the data that has different distirbution will be wrong. \n",
    "\n",
    "Reasons of Different test distribution: \n",
    "- __Selection bias__ : The test dataset or training dataset sample collected biasly.\n",
    "- __Covariate Shift or Population Drift__ : Some time training data and testing data are collected using different process. \n",
    "- __Different environment__: Training and testing dataset are collected in different environment.\n"
   ]
  },
  {
   "cell_type": "markdown",
   "id": "6b55d1a9-1229-4c67-a547-4e6241c611a5",
   "metadata": {},
   "source": [
    "## What are some ways I can make my model more robust to outliers? \n",
    "\n",
    "- Using model that are more robust to outliers like tree based model, KNN. In case of statistical test, try using non parameteric test as non parameteric test parameters like median are prone to outliers.\n",
    "- __Using log transformation__\n",
    "- In case of regression, changing loss to mean absolute error might help in increasing robustness. \n",
    "- Remove outliers\n",
    "- Winsorizing the dataset <br>\n",
    "Winsorizing: This method involves setting the extreme values of an attribute to some specified value. For example, for a 90% Winsorization, the bottom 5% of values are set equal to the minimum value in the 5th percentile, while the upper 5% of values are set equal to the maximum value in the 95th percentile. This is more advanced than trimming where we just exclude the extreme values."
   ]
  },
  {
   "cell_type": "code",
   "execution_count": null,
   "id": "8e144df5-2afb-4624-bdb5-286f8aca0c23",
   "metadata": {},
   "outputs": [],
   "source": []
  }
 ],
 "metadata": {
  "kernelspec": {
   "display_name": "Python 3.9.5 64-bit ('miniforge3': virtualenv)",
   "language": "python",
   "name": "python395jvsc74a57bd023b1c9a614c87c59e2789aac7461974ea5732657b1ecaa64db7f65804c2bbadf"
  },
  "language_info": {
   "codemirror_mode": {
    "name": "ipython",
    "version": 3
   },
   "file_extension": ".py",
   "mimetype": "text/x-python",
   "name": "python",
   "nbconvert_exporter": "python",
   "pygments_lexer": "ipython3",
   "version": "3.9.5"
  }
 },
 "nbformat": 4,
 "nbformat_minor": 5
}

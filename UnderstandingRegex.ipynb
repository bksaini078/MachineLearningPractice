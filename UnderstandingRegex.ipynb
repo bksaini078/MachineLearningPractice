{
 "metadata": {
  "language_info": {
   "codemirror_mode": {
    "name": "ipython",
    "version": 3
   },
   "file_extension": ".py",
   "mimetype": "text/x-python",
   "name": "python",
   "nbconvert_exporter": "python",
   "pygments_lexer": "ipython3",
   "version": "3.8.10"
  },
  "orig_nbformat": 2,
  "kernelspec": {
   "name": "python3810jvsc74a57bd0a9affad23b2c2f5ca22b408b9db540ff1d82bc974be15e3b8e8e97345f68c1e0",
   "display_name": "Python 3.8.10 64-bit ('tf_venv': conda)"
  },
  "metadata": {
   "interpreter": {
    "hash": "a9affad23b2c2f5ca22b408b9db540ff1d82bc974be15e3b8e8e97345f68c1e0"
   }
  }
 },
 "nbformat": 4,
 "nbformat_minor": 2,
 "cells": [
  {
   "cell_type": "code",
   "execution_count": 9,
   "metadata": {},
   "outputs": [],
   "source": [
    "import re \n",
    "import nltk "
   ]
  },
  {
   "cell_type": "code",
   "execution_count": 69,
   "metadata": {},
   "outputs": [],
   "source": [
    "sentence= \"The history of natural language processing (NLP) generally started in the 1950s, although work can be found from earlier email periods. golf hold mold told game chac e-mail aaaanbbbknknkn sdnjcjjjjjm mmeeeeeiiiii  :):):) grrbbb hdfjfhau #metoo #helloword 8837373 j8448845 0.005 00.60 1.344\""
   ]
  },
  {
   "cell_type": "code",
   "execution_count": 70,
   "metadata": {},
   "outputs": [
    {
     "output_type": "execute_result",
     "data": {
      "text/plain": [
       "['The',\n",
       " 'history',\n",
       " 'of',\n",
       " 'natural',\n",
       " 'language',\n",
       " 'processing',\n",
       " '(NLP)',\n",
       " 'generally',\n",
       " 'started',\n",
       " 'in',\n",
       " 'the',\n",
       " '1950s,',\n",
       " 'although',\n",
       " 'work',\n",
       " 'can',\n",
       " 'be',\n",
       " 'found',\n",
       " 'from',\n",
       " 'earlier',\n",
       " 'email',\n",
       " 'periods.',\n",
       " 'golf',\n",
       " 'hold',\n",
       " 'mold',\n",
       " 'told',\n",
       " 'game',\n",
       " 'chac',\n",
       " 'e-mail',\n",
       " 'aaaanbbbknknkn',\n",
       " 'sdnjcjjjjjm',\n",
       " 'mmeeeeeiiiii',\n",
       " '',\n",
       " ':):):)',\n",
       " 'grrbbb',\n",
       " 'hdfjfhau',\n",
       " '#metoo',\n",
       " '#helloword',\n",
       " '8837373',\n",
       " 'j8448845',\n",
       " '0.005',\n",
       " '00.60',\n",
       " '1.344']"
      ]
     },
     "metadata": {},
     "execution_count": 70
    }
   ],
   "source": [
    "words= sentence.split(' ')\n",
    "words"
   ]
  },
  {
   "source": [
    "Lets find the word end with y in our word array. \n",
    "__$__ sign is used to match end word in regex."
   ],
   "cell_type": "markdown",
   "metadata": {}
  },
  {
   "cell_type": "code",
   "execution_count": 71,
   "metadata": {},
   "outputs": [
    {
     "output_type": "execute_result",
     "data": {
      "text/plain": [
       "['history', 'generally']"
      ]
     },
     "metadata": {},
     "execution_count": 71
    }
   ],
   "source": [
    "# We are using re.search(Pattern, word)\n",
    "[w for w in words if re.search('y$',w)]"
   ]
  },
  {
   "source": [
    "The __.__ wildcard symbol matches any single character. \n",
    "Suppose we are looking for where 'n' in 3 postion and 'a' at 2 position. \n",
    "\n",
    "The caret symbol ^ matches the start of a string, just like the $ matches the end.<br>\n",
    "What results do we get with the example just shown if we leave out both of these, and search for «..j..t..»?"
   ],
   "cell_type": "markdown",
   "metadata": {}
  },
  {
   "cell_type": "code",
   "execution_count": 72,
   "metadata": {},
   "outputs": [
    {
     "output_type": "stream",
     "name": "stdout",
     "text": [
      "['language']\n['email', 'e-mail']\n"
     ]
    }
   ],
   "source": [
    "print([w for w in words if re.search('^..n..a..$',w)])\n",
    "print([w for w in words if re.search('^e-?mail',w)])\n"
   ]
  },
  {
   "source": [
    "# Ranges and Closures"
   ],
   "cell_type": "markdown",
   "metadata": {}
  },
  {
   "source": [
    "The T9 system is used for entering text on mobile phones. Two or more words that are entered with the same sequence of keystrokes are known as textonyms. <br>\n",
    "For example, both hole and golf are entered by pressing the sequence 4653.\n",
    "What other words could be produced with the same sequence? Here we use the regular expression «^[ghi][mno][jlk][def]$»:"
   ],
   "cell_type": "markdown",
   "metadata": {}
  },
  {
   "cell_type": "code",
   "execution_count": 73,
   "metadata": {},
   "outputs": [
    {
     "output_type": "execute_result",
     "data": {
      "text/plain": [
       "['golf', 'hold']"
      ]
     },
     "metadata": {},
     "execution_count": 73
    }
   ],
   "source": [
    "[w for w in words if re.search('^[ghi][mno][jlk][def]$',w)]"
   ]
  },
  {
   "source": [
    "- \\+ simply means “one or more instances of the preceding item."
   ],
   "cell_type": "markdown",
   "metadata": {}
  },
  {
   "cell_type": "code",
   "execution_count": 74,
   "metadata": {},
   "outputs": [
    {
     "output_type": "execute_result",
     "data": {
      "text/plain": [
       "['aaaanbbbknknkn']"
      ]
     },
     "metadata": {},
     "execution_count": 74
    }
   ],
   "source": [
    "[w for w in words if re.search('^a+a',w)]"
   ]
  },
  {
   "source": [
    " let’s replace + with \\*, which means “zero or more instances of the preceding item. "
   ],
   "cell_type": "markdown",
   "metadata": {}
  },
  {
   "cell_type": "code",
   "execution_count": 75,
   "metadata": {},
   "outputs": [
    {
     "output_type": "execute_result",
     "data": {
      "text/plain": [
       "['although', 'aaaanbbbknknkn']"
      ]
     },
     "metadata": {},
     "execution_count": 75
    }
   ],
   "source": [
    "# it will find the words which has no instance also\n",
    "[w for w in words if re.search('^a*a',w)]"
   ]
  },
  {
   "source": [
    "The ^ operator has another function when it appears as the first character inside square brackets. <br>\n",
    "For example, \\[^aeiouAEIOU] matches any character other than a vowel. <br>\n",
    "We can search the NPS Chat Corpus for words that are made up entirely of non-vowel characters using <br>\n",
    " \\^[^aeiouAEIOU]+$ to find items like these: :):):), grrr, cyb3r, and zzzzzzzz. Notice this includes non-alphabetic characters."
   ],
   "cell_type": "markdown",
   "metadata": {}
  },
  {
   "cell_type": "code",
   "execution_count": 76,
   "metadata": {},
   "outputs": [
    {
     "output_type": "execute_result",
     "data": {
      "text/plain": [
       "['history',\n",
       " 'of',\n",
       " 'natural',\n",
       " 'processing',\n",
       " '(NLP)',\n",
       " 'generally',\n",
       " 'started',\n",
       " 'in',\n",
       " '1950s,',\n",
       " 'although',\n",
       " 'work',\n",
       " 'can',\n",
       " 'found',\n",
       " 'from',\n",
       " 'earlier',\n",
       " 'email',\n",
       " 'periods.',\n",
       " 'golf',\n",
       " 'hold',\n",
       " 'mold',\n",
       " 'told',\n",
       " 'chac',\n",
       " 'e-mail',\n",
       " 'aaaanbbbknknkn',\n",
       " 'sdnjcjjjjjm',\n",
       " ':):):)',\n",
       " 'grrbbb',\n",
       " '#helloword',\n",
       " '8837373',\n",
       " 'j8448845',\n",
       " '0.005',\n",
       " '00.60',\n",
       " '1.344']"
      ]
     },
     "metadata": {},
     "execution_count": 76
    }
   ],
   "source": [
    "[w for w in words if re.search('[^aeiouAEIOU]+$',w)]"
   ]
  },
  {
   "cell_type": "code",
   "execution_count": 78,
   "metadata": {},
   "outputs": [
    {
     "output_type": "execute_result",
     "data": {
      "text/plain": [
       "['0.005', '00.60', '1.344']"
      ]
     },
     "metadata": {},
     "execution_count": 78
    }
   ],
   "source": [
    "# this statement is looking for pattern start with number then decimal and followed by number\n",
    "[w for w in words if re.search('^[0-9]+\\.[0-9]+$', w)]"
   ]
  },
  {
   "source": [
    "You probably worked out that a backslash means that the following character is deprived of its special powers and must literally match a specific character in the word. Thus, while . is special, \\. only matches a period. The braced expressions, like {3,5}, specify the number of repeats of the previous item. The pipe character indicates a choice between the material on its left or its right. Parentheses indicate the scope of an operator, and they can be used together with the pipe (or disjunction) symbol like this: w(i|e|ai|oo)t, matching wit, wet, wait, and woot. It is instructive to see what happens when you omit the parentheses from the last expression in the example, and search for «ed|ing$».\n",
    "\n",
    "__Operator Behavior__ <br>\n",
    "__\\. Wildcard, matches any character <br>__\n",
    "__\\^abc Matches some pattern abc at the start of a string<br>__\n",
    "__abc$ Matches some pattern abc at the end of a string <br>__\n",
    "__[abc] Matches one of a set of characters <br>__\n",
    "__[A-Z0-9] Matches one of a range of characters <br>__\n",
    "__ed|ing|s Matches one of the specified strings (disjunction) <br>__\n",
    "__\\* Zero or more of previous item, e.g., a*, [a-z]* (also known as Kleene Closure) + One or more of previous item, e.g., a+, [a-z]+ <br>__\n",
    "__? Zero or one of the previous item (i.e., optional), e.g., a?, [a-z]? <br>__\n",
    "__{n} Exactly n repeats where n is a non-negative integer <br>__\n",
    "__\\{n,} At least n repeats <br>__\n",
    "__\\{,n} No more than n repeats <br>__\n",
    "__\\{m,n} At least m and no more than n repeats <br>__\n",
    "__a(b|c)+ Parentheses that indicate the scope of the operators <br>__"
   ],
   "cell_type": "markdown",
   "metadata": {}
  },
  {
   "source": [
    "# Extracting Word Pieces"
   ],
   "cell_type": "markdown",
   "metadata": {}
  },
  {
   "cell_type": "code",
   "execution_count": 80,
   "metadata": {},
   "outputs": [
    {
     "output_type": "execute_result",
     "data": {
      "text/plain": [
       "['u',\n",
       " 'e',\n",
       " 'a',\n",
       " 'i',\n",
       " 'a',\n",
       " 'i',\n",
       " 'i',\n",
       " 'i',\n",
       " 'e',\n",
       " 'i',\n",
       " 'a',\n",
       " 'i',\n",
       " 'o',\n",
       " 'i',\n",
       " 'o',\n",
       " 'u']"
      ]
     },
     "metadata": {},
     "execution_count": 80
    }
   ],
   "source": [
    "word = 'supercalifragilisticexpialidocious'\n",
    "re.findall(r'[aeiou]', word)"
   ]
  },
  {
   "cell_type": "code",
   "execution_count": 84,
   "metadata": {},
   "outputs": [
    {
     "output_type": "stream",
     "name": "stderr",
     "text": [
      "[nltk_data] Downloading package treebank to\n",
      "[nltk_data]     /Users/teetusaini/nltk_data...\n",
      "[nltk_data]   Unzipping corpora/treebank.zip.\n"
     ]
    }
   ],
   "source": [
    "import nltk \n",
    "nltk.download('treebank')\n",
    "wsj = sorted(set(nltk.corpus.treebank.words()))"
   ]
  },
  {
   "cell_type": "code",
   "execution_count": 89,
   "metadata": {},
   "outputs": [
    {
     "output_type": "execute_result",
     "data": {
      "text/plain": [
       "dict_items([('ea', 476), ('oi', 65), ('ou', 329), ('io', 549), ('ee', 217), ('ie', 331), ('ui', 95), ('ua', 109), ('ai', 261), ('ue', 105), ('ia', 253), ('ei', 86), ('iai', 1), ('oo', 174), ('au', 106), ('eau', 10), ('oa', 59), ('oei', 1), ('oe', 15), ('eo', 39), ('uu', 1), ('eu', 18), ('iu', 14), ('aii', 1), ('aiia', 1), ('ae', 11), ('aa', 3), ('oui', 6), ('ieu', 3), ('ao', 6), ('iou', 27), ('uee', 4), ('eou', 5), ('aia', 1), ('uie', 3), ('iao', 1), ('eei', 2), ('uo', 8), ('uou', 5), ('eea', 1), ('ueui', 1), ('ioa', 1), ('ooi', 1)])"
      ]
     },
     "metadata": {},
     "execution_count": 89
    }
   ],
   "source": [
    "# all sequences of two or more vowels in some text, and determine their relative frequency\n",
    "nltk.FreqDist([v for words in wsj  for v in re.findall(r'[aeiou]{2,}', words)  ]).items()"
   ]
  },
  {
   "source": [
    "# Regular Expressions for Tokenizing Text"
   ],
   "cell_type": "markdown",
   "metadata": {}
  },
  {
   "cell_type": "code",
   "execution_count": 95,
   "metadata": {},
   "outputs": [],
   "source": [
    "raw =\"When I'M a Duchess,' she said to herself, (not in a very hopeful tone ... though), 'I won't have any pepper in my kitchen AT ALL. Soup does very well without--Maybe it's always pepper that makes people hot-tempered\""
   ]
  },
  {
   "cell_type": "code",
   "execution_count": 96,
   "metadata": {},
   "outputs": [
    {
     "output_type": "execute_result",
     "data": {
      "text/plain": [
       "['When',\n",
       " \"I'M\",\n",
       " 'a',\n",
       " \"Duchess,'\",\n",
       " 'she',\n",
       " 'said',\n",
       " 'to',\n",
       " 'herself,',\n",
       " '(not',\n",
       " 'in',\n",
       " 'a',\n",
       " 'very',\n",
       " 'hopeful',\n",
       " 'tone',\n",
       " '...',\n",
       " 'though),',\n",
       " \"'I\",\n",
       " \"won't\",\n",
       " 'have',\n",
       " 'any',\n",
       " 'pepper',\n",
       " 'in',\n",
       " 'my',\n",
       " 'kitchen',\n",
       " 'AT',\n",
       " 'ALL.',\n",
       " 'Soup',\n",
       " 'does',\n",
       " 'very',\n",
       " 'well',\n",
       " 'without--Maybe',\n",
       " \"it's\",\n",
       " 'always',\n",
       " 'pepper',\n",
       " 'that',\n",
       " 'makes',\n",
       " 'people',\n",
       " 'hot-tempered']"
      ]
     },
     "metadata": {},
     "execution_count": 96
    }
   ],
   "source": [
    "re.split(r' ', raw)"
   ]
  },
  {
   "cell_type": "code",
   "execution_count": 97,
   "metadata": {},
   "outputs": [
    {
     "output_type": "execute_result",
     "data": {
      "text/plain": [
       "['When',\n",
       " \"I'M\",\n",
       " 'a',\n",
       " \"Duchess,'\",\n",
       " 'she',\n",
       " 'said',\n",
       " 'to',\n",
       " 'herself,',\n",
       " '(not',\n",
       " 'in',\n",
       " 'a',\n",
       " 'very',\n",
       " 'hopeful',\n",
       " 'tone',\n",
       " '...',\n",
       " 'though),',\n",
       " \"'I\",\n",
       " \"won't\",\n",
       " 'have',\n",
       " 'any',\n",
       " 'pepper',\n",
       " 'in',\n",
       " 'my',\n",
       " 'kitchen',\n",
       " 'AT',\n",
       " 'ALL.',\n",
       " 'Soup',\n",
       " 'does',\n",
       " 'very',\n",
       " 'well',\n",
       " 'without--Maybe',\n",
       " \"it's\",\n",
       " 'always',\n",
       " 'pepper',\n",
       " 'that',\n",
       " 'makes',\n",
       " 'people',\n",
       " 'hot-tempered']"
      ]
     },
     "metadata": {},
     "execution_count": 97
    }
   ],
   "source": [
    "# another way \n",
    "re.split(r'\\s+',raw)\n",
    "# as you see there are words like herself, "
   ]
  },
  {
   "cell_type": "code",
   "execution_count": 98,
   "metadata": {},
   "outputs": [
    {
     "output_type": "execute_result",
     "data": {
      "text/plain": [
       "['When',\n",
       " 'I',\n",
       " 'M',\n",
       " 'a',\n",
       " 'Duchess',\n",
       " 'she',\n",
       " 'said',\n",
       " 'to',\n",
       " 'herself',\n",
       " 'not',\n",
       " 'in',\n",
       " 'a',\n",
       " 'very',\n",
       " 'hopeful',\n",
       " 'tone',\n",
       " 'though',\n",
       " 'I',\n",
       " 'won',\n",
       " 't',\n",
       " 'have',\n",
       " 'any',\n",
       " 'pepper',\n",
       " 'in',\n",
       " 'my',\n",
       " 'kitchen',\n",
       " 'AT',\n",
       " 'ALL',\n",
       " 'Soup',\n",
       " 'does',\n",
       " 'very',\n",
       " 'well',\n",
       " 'without',\n",
       " 'Maybe',\n",
       " 'it',\n",
       " 's',\n",
       " 'always',\n",
       " 'pepper',\n",
       " 'that',\n",
       " 'makes',\n",
       " 'people',\n",
       " 'hot',\n",
       " 'tempered']"
      ]
     },
     "metadata": {},
     "execution_count": 98
    }
   ],
   "source": [
    "# so better approach would \n",
    "re.split(r'\\W+',raw)"
   ]
  },
  {
   "source": [
    "Symbol Function <br>\n",
    "\\b word boundary <br>\n",
    "\\d digit boundary <br>\n",
    "\\D Any non-digit character (equivalent to [^0-9]) <br>\n",
    "\\s Any whitespace character (equivalent to [ \\t\\n\\r\\f\\v] <br>\n",
    "\\S Any non-whitespace character (equivalent to [^ \\t\\n\\r\\f\\v]) \\w Any alphanumeric character (equivalent to [a-zA-Z0-9_]) <br>\n",
    "\\W Any non-alphanumeric character (equivalent to [^a-zA-Z0-9_]) \\t The tab character <br>\n",
    "\\n The newline character <br>"
   ],
   "cell_type": "markdown",
   "metadata": {}
  }
 ]
}